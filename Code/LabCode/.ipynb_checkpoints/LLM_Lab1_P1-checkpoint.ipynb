{
 "cells": [
  {
   "cell_type": "markdown",
   "id": "732f9136-92ba-4ecc-a8ea-7c95b0e46d37",
   "metadata": {},
   "source": [
    "Keynotes for this lab:\n",
    "<ol>\n",
    "    <li>Basic Connection</li>\n",
    "    <li>Basic Usage</li>\n",
    "    <li>Basic application</li>\n",
    "    <li>Cannot remember what you said originally!!</li>\n",
    "</ol>"
   ]
  },
  {
   "cell_type": "markdown",
   "id": "b4e5028c-5bc5-487c-bc5b-0a39075391e4",
   "metadata": {},
   "source": [
    "Package Used"
   ]
  },
  {
   "cell_type": "code",
   "execution_count": 1,
   "id": "35525ae4-726b-4fe9-8ffb-a56abdf9cbd1",
   "metadata": {},
   "outputs": [],
   "source": [
    "#connect llm\n",
    "import ollama\n",
    "#from ollama import chat\n",
    "#from ollama import ChatResponse\n",
    "#from ollama import Client\n",
    "\n",
    "#langchain\n",
    "import langchain\n",
    "import langgraph\n",
    "#import OllamaLLM\n",
    "\n",
    "#generate document\n",
    "import docx\n",
    "import docx.enum.text\n",
    "\n",
    "#prompt language checking\n",
    "import re"
   ]
  },
  {
   "cell_type": "markdown",
   "id": "91a1d8e7-f3cd-4c3e-a6bc-f57aebe03c19",
   "metadata": {},
   "source": [
    "Standard Communication"
   ]
  },
  {
   "cell_type": "markdown",
   "id": "78a2b927-dfa9-4cf8-b03e-c34cfafbfdd7",
   "metadata": {},
   "source": [
    "use different model based on question"
   ]
  },
  {
   "cell_type": "markdown",
   "id": "d9ee2b9f-a7cf-4428-a0b6-41d91b59e8c6",
   "metadata": {},
   "source": [
    "Write Recommendation letter and Export as MS Words"
   ]
  },
  {
   "cell_type": "code",
   "execution_count": null,
   "id": "2898d9b5-7163-4a2a-92de-3ee7f69594a6",
   "metadata": {},
   "outputs": [],
   "source": []
  }
 ],
 "metadata": {
  "kernelspec": {
   "display_name": "Python 3 (ipykernel)",
   "language": "python",
   "name": "python3"
  },
  "language_info": {
   "codemirror_mode": {
    "name": "ipython",
    "version": 3
   },
   "file_extension": ".py",
   "mimetype": "text/x-python",
   "name": "python",
   "nbconvert_exporter": "python",
   "pygments_lexer": "ipython3",
   "version": "3.12.11"
  }
 },
 "nbformat": 4,
 "nbformat_minor": 5
}
