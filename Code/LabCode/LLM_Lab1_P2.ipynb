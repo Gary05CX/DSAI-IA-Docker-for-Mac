{
 "cells": [
  {
   "cell_type": "markdown",
   "id": "dd31ca3d-3b10-4359-8a39-2e5716f3b364",
   "metadata": {},
   "source": [
    "Keynote of this lab:\n",
    "<ol>\n",
    "    <li>Introduce Langchain</li>\n",
    "    <li>Introduce chain</li>\n",
    "    <li>Let them remember what we said!!</li>\n",
    "</ol>"
   ]
  },
  {
   "cell_type": "markdown",
   "id": "13d26066-fe67-4133-bb1f-a2df30cb6bcd",
   "metadata": {},
   "source": [
    "used packages"
   ]
  },
  {
   "cell_type": "code",
   "execution_count": 1,
   "id": "fcdb1d8c-2fff-4831-8349-2bd3ef948b8e",
   "metadata": {},
   "outputs": [],
   "source": [
    "#connect llm\n",
    "import ollama\n",
    "#from ollama import chat\n",
    "#from ollama import ChatResponse\n",
    "#from ollama import Client\n",
    "\n",
    "#langchain\n",
    "import langchain\n",
    "import langgraph\n",
    "#import OllamaLLM\n",
    "\n",
    "#MongoDB\n",
    "import pymongo as pymg\n",
    "import pprint as pt\n",
    "import pandas as pd\n",
    "from datetime import datetime"
   ]
  },
  {
   "cell_type": "markdown",
   "id": "4ac158b6-8242-4ab0-80c1-82cab0b3b3ed",
   "metadata": {},
   "source": [
    "use LLM to search website for you"
   ]
  },
  {
   "cell_type": "code",
   "execution_count": 2,
   "id": "b99b565c-2d6a-4d9f-a525-523894d18b95",
   "metadata": {},
   "outputs": [
    {
     "name": "stdout",
     "output_type": "stream",
     "text": [
      "https://forum.gamer.com.tw/C.php?bsn=72822&snA=10783\n",
      "https://cg.163.com/static/content/664964ab955b1f02aeaefbbb\n",
      "https://www.youtube.com/watch?v=ttUzrEr5tmE\n",
      "https://cg.163.com/static/content/664af185a4069efe9222b512\n",
      "https://wiki.biligame.com/sr/%E8%A7%92%E8%89%B2%E9%98%B5%E5%AE%B9%E6%90%AD%E9%85%8D%E5%8F%82%E8%80%83\n",
      "https://www.9game.cn/bhxqtd/10102793.html\n",
      "https://www.gamersky.com/handbook/202305/1593636.shtml\n",
      "https://www.youtube.com/watch?v=vIhwbEHFJyI\n",
      "http://news.17173.com/content/04102025/102445073.shtml\n",
      "https://www.4gamers.com.tw/news/detail/67112/honkai-star-rail-feixiao-guide\n"
     ]
    }
   ],
   "source": []
  },
  {
   "cell_type": "markdown",
   "id": "07effdd8-aada-43df-ba30-d1c709a8feaf",
   "metadata": {},
   "source": [
    "simplest way to let LLM remember your conversation"
   ]
  },
  {
   "cell_type": "code",
   "execution_count": 8,
   "id": "0e40e1e2-3fa9-4494-b2da-9b3568a265a8",
   "metadata": {},
   "outputs": [
    {
     "name": "stdout",
     "output_type": "stream",
     "text": [
      "Data visualization is the graphical representation of information and data. It involves using charts, graphs, maps, and other visual elements to communicate insights and help users understand complex data more easily. The goal of data visualization is to transform raw data into a format that is visually accessible and understandable, enabling quicker decision-making and better communication of analytical results. Common tools for creating data visualizations include software like Tableau, Power BI, and programming languages such as Python (with libraries like Matplotlib and Seaborn) or R.\n",
      "Data science is an interdisciplinary field that uses scientific methods, processes, algorithms, and systems to extract knowledge and insights from structured and unstructured data. It involves a wide range of activities such as data collection, cleaning, analysis, interpretation, and visualization to uncover hidden patterns, correlations, and trends within the data.\n",
      "\n",
      "Key components of data science include:\n",
      "\n",
      "1. **Data Collection**: Gathering data from various sources such as databases, APIs, web scraping, or other data repositories.\n",
      "2. **Data Cleaning**: Preparing the raw data by removing noise, handling missing values, and ensuring consistency.\n",
      "3. **Data Analysis**: Applying statistical and machine learning techniques to uncover patterns, make predictions, and support decision-making processes.\n",
      "4. **Interpretation and Communication**: Presenting findings through visualizations and reports to stakeholders in a clear and understandable manner.\n",
      "\n",
      "Common tools used in data science include programming languages such as Python or R, along with libraries like Pandas, NumPy, Scikit-learn for analysis, and visualization tools like Matplotlib, Seaborn, and Tableau.\n",
      "You asked three questions:\n",
      "\n",
      "1. What is Data visualization?\n",
      "2. What is Data Science?\n",
      "3. How many questions did you ask?\n"
     ]
    }
   ],
   "source": []
  },
  {
   "cell_type": "markdown",
   "id": "2d7e1673-0dc4-48ce-80d2-529e859169f8",
   "metadata": {},
   "source": [
    "Save Conversion to Database (simplest)"
   ]
  },
  {
   "cell_type": "code",
   "execution_count": 3,
   "id": "d6b07646-f8f5-45d1-9e0e-8de6ed89c301",
   "metadata": {},
   "outputs": [
    {
     "name": "stdout",
     "output_type": "stream",
     "text": [
      "I'm Arion, your data science guide here to help you navigate the exciting world of analytics and modeling. How can I assist you today? Whether you're a beginner or looking to dive deeper into specific topics, feel free to ask! 😊💡\n",
      "Nice to meet you, Benson! I'm Arion, your guide in the fascinating realm of data science. What brings you into the world of analytics and modeling today? Whether you're just starting out or want to explore deeper into specific topics, feel free to ask—let's dive in together! 😊💡\n",
      "Data science is like being a detective but with numbers and computers! It involves extracting insights from data to solve complex problems. Think of it as the art of turning raw information into actionable knowledge. How can I help you explore this exciting field further? 😊💡\n",
      "Data visualization is like telling a story with pictures instead of words. It helps you understand complex data by turning numbers into charts, graphs, and maps that are easier to grasp. How can I assist you in learning more about this powerful tool? 😊💡\n",
      "You asked 5 questions so far during our conversation! Each one has been insightful and interesting. How can I help you explore data science further today? Whether it's more about data visualization or delving into another topic, feel free to ask whenever you're ready! 😊💡\n",
      "Of course! Here’s a simple example of using `pandas` in Python to load a dataset, display the first few rows, and then calculate some summary statistics:\n",
      "\n",
      "```python\n",
      "import pandas as pd\n",
      "\n",
      "# Load a sample dataset (for this example, we'll use a built-in dataset)\n",
      "df = pd.DataFrame({\n",
      "    'Name': ['Alice', 'Bob', 'Charlie'],\n",
      "    'Age': [25, 30, 35],\n",
      "    'Salary': [50000, 60000, 70000]\n",
      "})\n",
      "\n",
      "# Display the first few rows of the DataFrame\n",
      "print(\"First few rows:\")\n",
      "print(df.head())\n",
      "\n",
      "# Calculate summary statistics\n",
      "print(\"\\nSummary Statistics:\")\n",
      "print(df.describe())\n",
      "```\n",
      "\n",
      "This code snippet demonstrates loading a small dataset into a pandas DataFrame, displaying its first few rows using `head()`, and generating descriptive statistics with `describe()`.\n",
      "\n",
      "Feel free to ask if you want to explore more or have specific questions about the code! 😊💡\n"
     ]
    }
   ],
   "source": []
  },
  {
   "cell_type": "markdown",
   "id": "b28bf5d9-64a2-4c33-bd9d-afc4c915c80d",
   "metadata": {},
   "source": [
    "Save Conversion to Database (Advanced)"
   ]
  },
  {
   "cell_type": "code",
   "execution_count": 4,
   "id": "a6c2fe92-a491-47df-8e4c-36b67c1cfd6b",
   "metadata": {},
   "outputs": [
    {
     "name": "stdout",
     "output_type": "stream",
     "text": [
      "==============================\n",
      "Benson! *big smile* It's wonderful to meet you too! I'm Arion, but feel free to call me Arin. I'm thrilled to be your Data Science teacher and guide on this exciting journey. I hope we're going to have a fantastic time learning and exploring the world of data science together!\n",
      "\n",
      "So, Benson, what brings you here today? Are you ready to dive into the wonderful world of data science or do you have any specific questions to get us started?\n",
      "==============================\n",
      "Hi there! I'm so glad you asked about Data Visualization!\n",
      "\n",
      "Data Visualization is like telling a story with numbers and pictures. It's a way to represent complex data in a clear, concise, and visually appealing manner, making it easier for humans (like us!) to understand and make sense of the information.\n",
      "\n",
      "Think of it like this: Imagine you're trying to explain a really cool party you attended last weekend to someone who's never been there before. You can't just tell them about all the fun things that happened - they need to see some pictures, hear about the music, feel the excitement! That's basically what Data Visualization does for data - it helps us visualize and communicate insights in a way that's easy to grasp.\n",
      "\n",
      "Data Visualization tools like graphs, charts, heatmaps, and more help us present complex data in a simple, intuitive way. They can be used to answer questions like \"What's the trend here?\", \"Which group is doing well?\", or \"Is there any correlation between these two variables?\" - and many more!\n",
      "\n",
      "By using Data Visualization effectively, we can uncover hidden patterns, trends, and insights that might not have been apparent otherwise, and make data-driven decisions with confidence.\n",
      "\n",
      "Want to see some examples?\n",
      "==============================\n",
      "*smiling warmly*\n",
      "\n",
      "Hello there! Welcome to our conversation. I'm Arion, your Data Science teacher today.\n",
      "\n",
      "Don't worry about anything - we're just getting started!\n",
      "\n",
      "You've asked only 1 question so far, and that's \"How many questions that I asked?\" Well, the answer is... *dramatic pause* ...1! You've asked just one question, and we're off to a great start!\n",
      "\n",
      "What's on your mind? Do you have any more questions or topics you'd like to explore in Data Science?\n",
      "==============================\n"
     ]
    }
   ],
   "source": [
    "\n"
   ]
  },
  {
   "cell_type": "markdown",
   "id": "39f0af16-53d5-47fb-b304-526e726ddcc2",
   "metadata": {},
   "source": [
    "Embbedding\n",
    "<br>\n",
    "source: <a href=\"https://zh.moegirl.org.cn/zh-hk/%E5%B4%A9%E5%9D%8F%EF%BC%9A%E6%98%9F%E7%A9%B9%E9%93%81%E9%81%93\">game setting</a>"
   ]
  },
  {
   "cell_type": "code",
   "execution_count": null,
   "id": "9a900bed-8287-4e29-9c20-a583585b7683",
   "metadata": {},
   "outputs": [
    {
     "name": "stdout",
     "output_type": "stream",
     "text": [
      "question 1: 這裡的世界觀是什麼? \n",
      "answer:### 世界觀探秘：崩壞與虛數之樹\n",
      "\n",
      "在《星穹鐵道》的宏大宇宙中，我們探索了一個充滿神秘和奇異元素的世界觀。這個世界觀融合了科學與魔法、實數與虛數、崩壞與重生的概念，構建出一個既深邃又迷人的知識體系。\n",
      "\n",
      "#### 1. **崩壞與終焉之繭**\n",
      "\n",
      "在這個宇宙中，「崩壞」被視為一種自然現象，它並非來自外部的災難或異常，而是內生於世界的發展過程。根據逆熵組織的研究，崩壞是虛數之樹為了維持其生長而進行的一種篩選與糾正機制。終焉之繭作為崩壞規則的主宰，在太陽系範圍內掌控著所有律者，它位於虛數空間的末梢，是崩壞發生的核心所在。\n",
      "\n",
      "#### 2. **虛數之樹與平行世界**\n",
      "\n",
      "「虛數之樹」是一個超越了傳統物理世界的概念。它不僅是一棵樹，更像是一個記錄遊戲資料的伺服器，可以生成新的、平行的世界。在這個理論中，時間並非絕對固定向前，而是受到某些基本法則的束縛。通過虛數之樹，人們可以創造出不同的未來和可能性。\n",
      "\n",
      "#### 3. **虛數內能與崩壞能**\n",
      "\n",
      "研究者們發現，從數學的角度來看，虛數內能在微觀尺度上預測了崩壞的波動。它被視為崩壞能的重要組成部分，甚至可能是崩壞能本身。在太陽系邊緣，存在著廣泛的虛數內能潮汐帶，這些能量規模龐大，足以阻礙星際航行。\n",
      "\n",
      "#### 4. **黑塔與未知探索**\n",
      "\n",
      "天才俱樂部的「黑塔」號空間站則是一個充滿神秘色彩的地方。它不僅收藏了各種奇異的藏品，還進行著對銀河中未解之謎的研究工作。這個空間站由「天才俱樂部」#83所有，其內部構成了複雜的人員結構，研究者們不斷地從銀河各處收集遺器和奇物，探索未知。\n",
      "\n",
      "#### 5. **平行世界的起點**\n",
      "\n",
      "在「平行世界的起點」，「他者」尚未存在，「現實」還只有一個。對於體驗這唯一現實的人來說，他的選擇決定了未來的走向。這種理論暗示了每個人的人生旅程都是獨特且不可逆的。\n",
      "\n",
      "#### 6. **虛數重整化**\n",
      "\n",
      "虛數重整化是一種可以在虛數空間中定義的特殊變換現象。它通過扭曲周圍空間的方式，將「無限」轉換為「有限」或反之。這種現象在天命組織使用聖劍「幽蘭黛爾」連接世界泡與虛數之樹時被記錄下來。\n",
      "\n",
      "### 總結\n",
      "\n",
      "《星穹鐵道》的世界觀是一個充滿奇異和深邃的宇宙，它融合了科學、魔法以及各種神秘概念。崩壞與終焉之繭、虛數之樹與平行世界、虛數內能與崩壞能等元素共同構建了一個豐富而複雜的知識體系。這個世界觀不僅引發了無數的探索和思考，也為玩家帶來了無盡的好奇心和冒險精神。\n",
      "\n",
      "希望這些有趣的介紹能夠幫助你更好地理解《星穹鐵道》的世界觀！\n",
      "~.~.~.~.~.~.~.~.~.~.~.~.~.~.~.~.~.~.~.~.~.~.~.~.~.~.~.~.~.~.\n"
     ]
    }
   ],
   "source": [
    "#path checking\n",
    "import os\n",
    "\n",
    "#document preprocessing\n",
    "from langchain_community.document_loaders import TextLoader\n",
    "from langchain.text_splitter import CharacterTextSplitter\n",
    "\n",
    "#basic\n",
    "from langchain_core.prompts import ChatPromptTemplate\n",
    "from langchain_ollama.llms import OllamaLLM\n",
    "from langchain_core.messages import AIMessage, HumanMessage, SystemMessage\n",
    "\n",
    "#embedding\n",
    "from langchain_ollama import OllamaEmbeddings\n",
    "from langchain_core.runnables import RunnablePassthrough\n",
    "from langchain_core.output_parsers import StrOutputParser\n",
    "from langchain_core.vectorstores import InMemoryVectorStore\n",
    "#from langchain.vectorstores import Chroma\n",
    "from langchain_community.document_loaders import Docx2txtLoader\n",
    "from langchain.text_splitter import CharacterTextSplitter\n"
   ]
  },
  {
   "cell_type": "code",
   "execution_count": null,
   "id": "4b0b66ce-c4bf-471b-95d0-e6914d7be7b6",
   "metadata": {},
   "outputs": [],
   "source": []
  }
 ],
 "metadata": {
  "kernelspec": {
   "display_name": "Python 3 (ipykernel)",
   "language": "python",
   "name": "python3"
  },
  "language_info": {
   "codemirror_mode": {
    "name": "ipython",
    "version": 3
   },
   "file_extension": ".py",
   "mimetype": "text/x-python",
   "name": "python",
   "nbconvert_exporter": "python",
   "pygments_lexer": "ipython3",
   "version": "3.12.11"
  }
 },
 "nbformat": 4,
 "nbformat_minor": 5
}
